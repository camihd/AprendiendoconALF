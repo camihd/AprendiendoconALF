{
 "cells": [
  {
   "cell_type": "markdown",
   "id": "53265ae4",
   "metadata": {},
   "source": [
    "# Aprende con Alf"
   ]
  },
  {
   "cell_type": "markdown",
   "id": "87c5b4c6",
   "metadata": {},
   "source": [
    "## Tipos de Datos Simples"
   ]
  },
  {
   "cell_type": "markdown",
   "id": "f0420712",
   "metadata": {},
   "source": [
    "### Ejercicio 1\n",
    "Escribir un programa que muestre por pantalla la cadena ¡Hola Mundo!."
   ]
  },
  {
   "cell_type": "code",
   "execution_count": 1,
   "id": "283883c2",
   "metadata": {},
   "outputs": [
    {
     "name": "stdout",
     "output_type": "stream",
     "text": [
      "¡Hola mundo!\n"
     ]
    }
   ],
   "source": [
    "print('¡Hola mundo!')"
   ]
  },
  {
   "cell_type": "markdown",
   "id": "a7d1923b",
   "metadata": {},
   "source": [
    "### Ejercicio 2\n",
    "Escribir un programa que almacene la cadena ¡Hola Mundo! en una variable y luego muestre por pantalla el contenido de la variable."
   ]
  },
  {
   "cell_type": "code",
   "execution_count": 2,
   "id": "d8ccfb1a",
   "metadata": {},
   "outputs": [
    {
     "name": "stdout",
     "output_type": "stream",
     "text": [
      "¡Hola Mundo!\n"
     ]
    }
   ],
   "source": [
    "x = '¡Hola Mundo!'\n",
    "print (x)"
   ]
  },
  {
   "cell_type": "markdown",
   "id": "51a5170f",
   "metadata": {},
   "source": [
    "### Ejercicio 3\n",
    "Escribir un programa que pregunte el nombre del usuario en la consola y después de que el usuario lo introduzca muestre por pantalla la cadena ¡Hola \\<nombre\\>!, donde \\<nombre> es el nombre que el usuario haya introducido."
   ]
  },
  {
   "cell_type": "code",
   "execution_count": 2,
   "id": "d59a7b69",
   "metadata": {},
   "outputs": [
    {
     "name": "stdout",
     "output_type": "stream",
     "text": [
      "Introduzca su nombre: Camilo\n",
      "!Hola Camilo¡\n"
     ]
    }
   ],
   "source": [
    "nombre = input(\"Introduzca su nombre: \")\n",
    "print(f\"¡Hola {nombre}!\")"
   ]
  },
  {
   "cell_type": "markdown",
   "id": "fef8a300",
   "metadata": {},
   "source": [
    "### Ejercicio 4\n",
    "Escribir un programa que muestre por pantalla el resultado de la siguiente operación aritmética $ \\left( \\frac{3+2}{2\\cdot5} \\right)^{2}$."
   ]
  },
  {
   "cell_type": "code",
   "execution_count": 2,
   "id": "c1668916",
   "metadata": {},
   "outputs": [
    {
     "name": "stdout",
     "output_type": "stream",
     "text": [
      "0.25\n"
     ]
    }
   ],
   "source": [
    "x = ((3+2)/(2*5))**2\n",
    "print(x)"
   ]
  },
  {
   "cell_type": "markdown",
   "id": "1bc5d88b",
   "metadata": {},
   "source": [
    "### Ejercicio 5\n",
    "Escribir un programa que pregunte al usuario por el número de horas trabajadas y el coste por hora. Después debe mostrar por pantalla la paga que le corresponde."
   ]
  },
  {
   "cell_type": "code",
   "execution_count": 4,
   "id": "ada3eb5c",
   "metadata": {},
   "outputs": [
    {
     "name": "stdout",
     "output_type": "stream",
     "text": [
      "Horas trabajadas: 10\n",
      "Costo por hora: 10\n",
      "Su paga es 100.\n"
     ]
    }
   ],
   "source": [
    "h = int(input('Horas trabajadas: '))\n",
    "c = int(input('Costo por hora: '))\n",
    "print(f\"Su paga es {h*c}.\")"
   ]
  },
  {
   "cell_type": "markdown",
   "id": "b9e47265",
   "metadata": {},
   "source": [
    "### Ejercicio 6\n",
    "Escribir un programa que lea un entero positivo, $n$, introducido por el usuario y después muestre en pantalla la suma de todos los enteros desde 1 hasta $n$. La suma de los $n$ primeros enteros positivos puede ser calculada de la siguiente forma:\n",
    "$$suma = \\frac{n(n+1)}{2}$$"
   ]
  },
  {
   "cell_type": "code",
   "execution_count": 6,
   "id": "9172b6ec",
   "metadata": {},
   "outputs": [
    {
     "name": "stdout",
     "output_type": "stream",
     "text": [
      "Introducir un número: 10\n",
      "La suma desde 1 hasta 10 es 55.\n"
     ]
    }
   ],
   "source": [
    "n = int(input('Introducir un número: '))\n",
    "suma = int(n*(n+1)/2)\n",
    "print(f\"La suma desde 1 hasta {n} es {suma}.\")"
   ]
  },
  {
   "cell_type": "markdown",
   "id": "f17269ed",
   "metadata": {},
   "source": [
    "### Ejercicio 7\n",
    "Escribir un programa que pida al usuario su peso (en kg) y estatura (en metros), calcule el índice de masa corporal y lo almacene en una variable, y muestre por pantalla la frase Tu *índice de masa corporal* es \\<imc> donde \\<imc> es el índice de masa corporal calculado redondeado con dos decimales."
   ]
  },
  {
   "cell_type": "code",
   "execution_count": 8,
   "id": "5474b428",
   "metadata": {},
   "outputs": [
    {
     "name": "stdout",
     "output_type": "stream",
     "text": [
      "Introduzca su peso en kg: 94\n",
      "Introduzca su altura en m: 1.74\n",
      "Tu índice de masa corporal es 31.05\n"
     ]
    }
   ],
   "source": [
    "m = float(input(\"Introduzca su peso en kg: \"))\n",
    "h = float(input(\"Introduzca su altura en m: \"))\n",
    "print(f\"Tu índice de masa corporal es {(m/h**2):.2f}\")"
   ]
  },
  {
   "cell_type": "markdown",
   "id": "90c621a6",
   "metadata": {},
   "source": [
    "### Ejercicio 8\n",
    "Escribir un programa que pida al usuario dos números enteros y muestre por pantalla la \\<n> entre \\<m> da un cociente \\<c> y un resto \\<r> donde \\<n> y \\<m> son los números introducidos por el usuario, y \\<c> y \\<r> son el cociente y el resto de la división entera respectivamente."
   ]
  },
  {
   "cell_type": "code",
   "execution_count": 14,
   "id": "98155841",
   "metadata": {},
   "outputs": [
    {
     "name": "stdout",
     "output_type": "stream",
     "text": [
      "Ingrese dos números enteros separados por espacio: 5 2\n",
      "La división 5 entre 2 dio como resultado 0.5 como número decimal y 2 como número entero.\n"
     ]
    }
   ],
   "source": [
    "import math\n",
    "n , m = input(\"Ingrese dos números enteros separados por espacio: \").split(\" \")\n",
    "\n",
    "n = int(n)\n",
    "m = int(m)\n",
    "r, c = math.modf(n/m)\n",
    "print(f\"La división {n} entre {m} dio como resultado {r} como número decimal y {int(c)} como número entero.\")"
   ]
  },
  {
   "cell_type": "code",
   "execution_count": 18,
   "id": "19dc890f",
   "metadata": {},
   "outputs": [
    {
     "name": "stdout",
     "output_type": "stream",
     "text": [
      "Ingrese dos números enteros separados por espacio, primero el dividendo y luego el divisor: 50 6\n",
      "Al dividir 50 entre 6 se obtiene 8 como cociente y 2 como resto.\n"
     ]
    }
   ],
   "source": [
    "n , m = input(\"Ingrese dos números enteros separados por espacio, primero el dividendo y luego el divisor: \").split(\" \")\n",
    "\n",
    "n = int(n)\n",
    "m = int(m)\n",
    "\n",
    "print(f\"Al dividir {n} entre {m} se obtiene {n//m} como cociente y {n % m} como resto.\")"
   ]
  },
  {
   "cell_type": "markdown",
   "id": "51392b6e",
   "metadata": {},
   "source": [
    "### Ejercicio 9\n",
    "Escribir un programa que pregunte al usuario una cantidad a invertir, el interés anual y el número de años, y muestre por pantalla el capital obtenido en la inversión."
   ]
  },
  {
   "cell_type": "code",
   "execution_count": 24,
   "id": "e1396a8b",
   "metadata": {},
   "outputs": [
    {
     "name": "stdout",
     "output_type": "stream",
     "text": [
      "Ingrese la cantidad a invertir: 100\n",
      "Ingrese la tasa de interés efectivo anual en porcentaje: 10\n",
      "Ingrese el número de años que va a dejar el dinero: 2\n",
      "Su retorno es 121.00.\n"
     ]
    }
   ],
   "source": [
    "cantidad = float(input('Ingrese la cantidad a invertir: '))\n",
    "i = float(input('Ingrese la tasa de interés efectivo anual en porcentaje: '))\n",
    "años= float(input('Ingrese el número de años que va a dejar el dinero: '))\n",
    "\n",
    "print(f\"Su retorno es {(cantidad*(1+(i/100))**años):.2f}.\")"
   ]
  },
  {
   "cell_type": "markdown",
   "id": "94f5a0d2",
   "metadata": {},
   "source": [
    "### Ejercicio 10\n",
    "Una juguetería tiene mucho éxito en dos de sus productos: payasos y muñecas. Suele hacer venta por correo y la empresa de logística les cobra por peso de cada paquete así que deben calcular el peso de los payasos y muñecas que saldrán en cada paquete a demanda. Cada payaso pesa 112 g y cada muñeca 75 g. Escribir un programa que lea el número de payasos y muñecas vendidos en el último pedido y calcule el peso total del paquete que será enviado."
   ]
  },
  {
   "cell_type": "code",
   "execution_count": 25,
   "id": "dff3c46b",
   "metadata": {},
   "outputs": [
    {
     "name": "stdout",
     "output_type": "stream",
     "text": [
      "Ingrese la cantidad de payasos vendidos: 10\n",
      "Ingrese la cantidad de muñecas vendidas: 10\n",
      "El peso del paquete a enviar es 1870 gramos.\n"
     ]
    }
   ],
   "source": [
    "payaso = int(input(\"Ingrese la cantidad de payasos vendidos: \"))\n",
    "doll = int(input(\"Ingrese la cantidad de muñecas vendidas: \"))\n",
    "peso = payaso * 112 + doll * 75\n",
    "print (f\"El peso del paquete a enviar es {peso} gramos.\")"
   ]
  },
  {
   "cell_type": "markdown",
   "id": "cd858d24",
   "metadata": {},
   "source": [
    "### Ejercicio 11\n",
    "Imagina que acabas de abrir una nueva cuenta de ahorros que te ofrece el 4% de interés al año. Estos ahorros debido a intereses, que no se cobran hasta finales de año, se te añaden al balance final de tu cuenta de ahorros. Escribir un programa que comience leyendo la cantidad de dinero depositada en la cuenta de ahorros, introducida por el usuario. Después el programa debe calcular y mostrar por pantalla la cantidad de ahorros tras el primer, segundo y tercer años. Redondear cada cantidad a dos decimales."
   ]
  },
  {
   "cell_type": "code",
   "execution_count": 28,
   "id": "df39c0f1",
   "metadata": {},
   "outputs": [
    {
     "name": "stdout",
     "output_type": "stream",
     "text": [
      "Ingrese los ahorros que tiene en su cuenta: 1000\n",
      "Sus ahorros al año son 1040.00,\n",
      "a los dos años es 1081.60\n",
      "y a los tres años es 1124.86\n",
      "\n"
     ]
    }
   ],
   "source": [
    "ahorro = float(input(\"Ingrese los ahorros que tiene en su cuenta: \"))\n",
    "print(f\"\"\"Sus ahorros al año son {(ahorro * 1.04):.2f},\n",
    "a los dos años es {(ahorro * 1.04**2):.2f}\n",
    "y a los tres años es {(ahorro * 1.04**3):.2f}\n",
    "\"\"\")"
   ]
  },
  {
   "cell_type": "markdown",
   "id": "2f147992",
   "metadata": {},
   "source": [
    "### Ejercicio 12\n",
    "Una panadería vende barras de pan a 3.49€ cada una. El pan que no es el día tiene un descuento del 60%. Escribir un programa que comience leyendo el número de barras vendidas que no son del día. Después el programa debe mostrar el precio habitual de una barra de pan, el descuento que se le hace por no ser fresca y el coste final total."
   ]
  },
  {
   "cell_type": "code",
   "execution_count": 30,
   "id": "5a788e59",
   "metadata": {},
   "outputs": [
    {
     "name": "stdout",
     "output_type": "stream",
     "text": [
      "Digite las barras vendidas que no son del dia: 100\n",
      "El costo de una barra de pan es 3.49€.\n",
      "El descuento por no ser fresco es del 60%.\n",
      "Y el costo total es: 139.6\n"
     ]
    }
   ],
   "source": [
    "pan = int(input(\"Digite las barras vendidas que no son del dia: \"))\n",
    "print(f\"\"\"El costo de una barra de pan es 3.49€.\n",
    "El descuento por no ser fresco es del 60%.\n",
    "Y el costo total es: {pan * 3.49 * .4}.\"\"\")"
   ]
  },
  {
   "cell_type": "code",
   "execution_count": null,
   "id": "f326a9b9",
   "metadata": {},
   "outputs": [],
   "source": []
  }
 ],
 "metadata": {
  "kernelspec": {
   "display_name": "Python 3",
   "language": "python",
   "name": "python3"
  },
  "language_info": {
   "codemirror_mode": {
    "name": "ipython",
    "version": 3
   },
   "file_extension": ".py",
   "mimetype": "text/x-python",
   "name": "python",
   "nbconvert_exporter": "python",
   "pygments_lexer": "ipython3",
   "version": "3.8.11"
  }
 },
 "nbformat": 4,
 "nbformat_minor": 5
}
