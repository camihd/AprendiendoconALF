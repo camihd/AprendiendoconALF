{
  "nbformat": 4,
  "nbformat_minor": 5,
  "metadata": {
    "kernelspec": {
      "display_name": "Python 3",
      "language": "python",
      "name": "python3"
    },
    "language_info": {
      "codemirror_mode": {
        "name": "ipython",
        "version": 3
      },
      "file_extension": ".py",
      "mimetype": "text/x-python",
      "name": "python",
      "nbconvert_exporter": "python",
      "pygments_lexer": "ipython3",
      "version": "3.8.11"
    },
    "colab": {
      "name": "Aprende con ALF.ipynb",
      "provenance": []
    }
  },
  "cells": [
    {
      "cell_type": "markdown",
      "metadata": {
        "id": "53265ae4"
      },
      "source": [
        "# Aprende con Alf"
      ],
      "id": "53265ae4"
    },
    {
      "cell_type": "markdown",
      "metadata": {
        "id": "87c5b4c6"
      },
      "source": [
        "## Tipos de Datos Simples"
      ],
      "id": "87c5b4c6"
    },
    {
      "cell_type": "markdown",
      "metadata": {
        "id": "f0420712"
      },
      "source": [
        "### Ejercicio 1\n",
        "Escribir un programa que muestre por pantalla la cadena ¡Hola Mundo!."
      ],
      "id": "f0420712"
    },
    {
      "cell_type": "code",
      "metadata": {
        "id": "283883c2",
        "outputId": "48c7e9d0-7c82-4723-8499-1a8aa518bb8e"
      },
      "source": [
        "print('¡Hola mundo!')"
      ],
      "id": "283883c2",
      "execution_count": null,
      "outputs": [
        {
          "name": "stdout",
          "output_type": "stream",
          "text": [
            "¡Hola mundo!\n"
          ]
        }
      ]
    },
    {
      "cell_type": "markdown",
      "metadata": {
        "id": "a7d1923b"
      },
      "source": [
        "### Ejercicio 2\n",
        "Escribir un programa que almacene la cadena ¡Hola Mundo! en una variable y luego muestre por pantalla el contenido de la variable."
      ],
      "id": "a7d1923b"
    },
    {
      "cell_type": "code",
      "metadata": {
        "id": "d8ccfb1a",
        "outputId": "bcefde28-f715-49b2-b56c-f13b41e6c0f5"
      },
      "source": [
        "x = '¡Hola Mundo!'\n",
        "print (x)"
      ],
      "id": "d8ccfb1a",
      "execution_count": null,
      "outputs": [
        {
          "name": "stdout",
          "output_type": "stream",
          "text": [
            "¡Hola Mundo!\n"
          ]
        }
      ]
    },
    {
      "cell_type": "markdown",
      "metadata": {
        "id": "51a5170f"
      },
      "source": [
        "### Ejercicio 3\n",
        "Escribir un programa que pregunte el nombre del usuario en la consola y después de que el usuario lo introduzca muestre por pantalla la cadena ¡Hola \\<nombre\\>!, donde \\<nombre> es el nombre que el usuario haya introducido."
      ],
      "id": "51a5170f"
    },
    {
      "cell_type": "code",
      "metadata": {
        "id": "d59a7b69",
        "outputId": "4b48c100-eb82-481a-c2a7-a5160f9e06d7"
      },
      "source": [
        "nombre = input(\"Introduzca su nombre: \")\n",
        "print(f\"¡Hola {nombre}!\")"
      ],
      "id": "d59a7b69",
      "execution_count": null,
      "outputs": [
        {
          "name": "stdout",
          "output_type": "stream",
          "text": [
            "Introduzca su nombre: Camilo\n",
            "!Hola Camilo¡\n"
          ]
        }
      ]
    },
    {
      "cell_type": "markdown",
      "metadata": {
        "id": "fef8a300"
      },
      "source": [
        "### Ejercicio 4\n",
        "Escribir un programa que muestre por pantalla el resultado de la siguiente operación aritmética $ \\left( \\frac{3+2}{2\\cdot5} \\right)^{2}$."
      ],
      "id": "fef8a300"
    },
    {
      "cell_type": "code",
      "metadata": {
        "id": "c1668916",
        "outputId": "c8194448-2f03-4b82-e4fc-13441ec21d92"
      },
      "source": [
        "x = ((3+2)/(2*5))**2\n",
        "print(x)"
      ],
      "id": "c1668916",
      "execution_count": null,
      "outputs": [
        {
          "name": "stdout",
          "output_type": "stream",
          "text": [
            "0.25\n"
          ]
        }
      ]
    },
    {
      "cell_type": "markdown",
      "metadata": {
        "id": "1bc5d88b"
      },
      "source": [
        "### Ejercicio 5\n",
        "Escribir un programa que pregunte al usuario por el número de horas trabajadas y el coste por hora. Después debe mostrar por pantalla la paga que le corresponde."
      ],
      "id": "1bc5d88b"
    },
    {
      "cell_type": "code",
      "metadata": {
        "id": "ada3eb5c",
        "outputId": "aff58ba1-9b64-473b-adab-40d14b4a68fa"
      },
      "source": [
        "h = int(input('Horas trabajadas: '))\n",
        "c = int(input('Costo por hora: '))\n",
        "print(f\"Su paga es {h*c}.\")"
      ],
      "id": "ada3eb5c",
      "execution_count": null,
      "outputs": [
        {
          "name": "stdout",
          "output_type": "stream",
          "text": [
            "Horas trabajadas: 10\n",
            "Costo por hora: 10\n",
            "Su paga es 100.\n"
          ]
        }
      ]
    },
    {
      "cell_type": "markdown",
      "metadata": {
        "id": "b9e47265"
      },
      "source": [
        "### Ejercicio 6\n",
        "Escribir un programa que lea un entero positivo, $n$, introducido por el usuario y después muestre en pantalla la suma de todos los enteros desde 1 hasta $n$. La suma de los $n$ primeros enteros positivos puede ser calculada de la siguiente forma:\n",
        "$$suma = \\frac{n(n+1)}{2}$$"
      ],
      "id": "b9e47265"
    },
    {
      "cell_type": "code",
      "metadata": {
        "id": "9172b6ec",
        "outputId": "1c57384b-5ad2-4728-d595-e0ef22f2d50e"
      },
      "source": [
        "n = int(input('Introducir un número: '))\n",
        "suma = int(n*(n+1)/2)\n",
        "print(f\"La suma desde 1 hasta {n} es {suma}.\")"
      ],
      "id": "9172b6ec",
      "execution_count": null,
      "outputs": [
        {
          "name": "stdout",
          "output_type": "stream",
          "text": [
            "Introducir un número: 10\n",
            "La suma desde 1 hasta 10 es 55.\n"
          ]
        }
      ]
    },
    {
      "cell_type": "markdown",
      "metadata": {
        "id": "f17269ed"
      },
      "source": [
        "### Ejercicio 7\n",
        "Escribir un programa que pida al usuario su peso (en kg) y estatura (en metros), calcule el índice de masa corporal y lo almacene en una variable, y muestre por pantalla la frase Tu *índice de masa corporal* es \\<imc> donde \\<imc> es el índice de masa corporal calculado redondeado con dos decimales."
      ],
      "id": "f17269ed"
    },
    {
      "cell_type": "code",
      "metadata": {
        "id": "5474b428",
        "outputId": "a3f4728f-e207-462e-bd65-7e2504c48d3a"
      },
      "source": [
        "m = float(input(\"Introduzca su peso en kg: \"))\n",
        "h = float(input(\"Introduzca su altura en m: \"))\n",
        "print(f\"Tu índice de masa corporal es {(m/h**2):.2f}\")"
      ],
      "id": "5474b428",
      "execution_count": null,
      "outputs": [
        {
          "name": "stdout",
          "output_type": "stream",
          "text": [
            "Introduzca su peso en kg: 94\n",
            "Introduzca su altura en m: 1.74\n",
            "Tu índice de masa corporal es 31.05\n"
          ]
        }
      ]
    },
    {
      "cell_type": "markdown",
      "metadata": {
        "id": "90c621a6"
      },
      "source": [
        "### Ejercicio 8\n",
        "Escribir un programa que pida al usuario dos números enteros y muestre por pantalla la \\<n> entre \\<m> da un cociente \\<c> y un resto \\<r> donde \\<n> y \\<m> son los números introducidos por el usuario, y \\<c> y \\<r> son el cociente y el resto de la división entera respectivamente."
      ],
      "id": "90c621a6"
    },
    {
      "cell_type": "code",
      "metadata": {
        "id": "98155841",
        "outputId": "ae4eee22-7ca9-48ec-c39b-b9a5be59c70a"
      },
      "source": [
        "import math\n",
        "n , m = input(\"Ingrese dos números enteros separados por espacio: \").split(\" \")\n",
        "\n",
        "n = int(n)\n",
        "m = int(m)\n",
        "r, c = math.modf(n/m)\n",
        "print(f\"La división {n} entre {m} dio como resultado {r} como número decimal y {int(c)} como número entero.\")"
      ],
      "id": "98155841",
      "execution_count": null,
      "outputs": [
        {
          "name": "stdout",
          "output_type": "stream",
          "text": [
            "Ingrese dos números enteros separados por espacio: 5 2\n",
            "La división 5 entre 2 dio como resultado 0.5 como número decimal y 2 como número entero.\n"
          ]
        }
      ]
    },
    {
      "cell_type": "code",
      "metadata": {
        "id": "19dc890f",
        "outputId": "0adcb7d3-e836-48bb-f656-26768d3b0218"
      },
      "source": [
        "n , m = input(\"Ingrese dos números enteros separados por espacio, primero el dividendo y luego el divisor: \").split(\" \")\n",
        "\n",
        "n = int(n)\n",
        "m = int(m)\n",
        "\n",
        "print(f\"Al dividir {n} entre {m} se obtiene {n//m} como cociente y {n % m} como resto.\")"
      ],
      "id": "19dc890f",
      "execution_count": null,
      "outputs": [
        {
          "name": "stdout",
          "output_type": "stream",
          "text": [
            "Ingrese dos números enteros separados por espacio, primero el dividendo y luego el divisor: 50 6\n",
            "Al dividir 50 entre 6 se obtiene 8 como cociente y 2 como resto.\n"
          ]
        }
      ]
    },
    {
      "cell_type": "markdown",
      "metadata": {
        "id": "51392b6e"
      },
      "source": [
        "### Ejercicio 9\n",
        "Escribir un programa que pregunte al usuario una cantidad a invertir, el interés anual y el número de años, y muestre por pantalla el capital obtenido en la inversión."
      ],
      "id": "51392b6e"
    },
    {
      "cell_type": "code",
      "metadata": {
        "id": "e1396a8b",
        "outputId": "7bed9ff2-2394-49bd-aa13-3ff3b4a47d87"
      },
      "source": [
        "cantidad = float(input('Ingrese la cantidad a invertir: '))\n",
        "i = float(input('Ingrese la tasa de interés efectivo anual en porcentaje: '))\n",
        "años= float(input('Ingrese el número de años que va a dejar el dinero: '))\n",
        "\n",
        "print(f\"Su retorno es {(cantidad*(1+(i/100))**años):.2f}.\")"
      ],
      "id": "e1396a8b",
      "execution_count": null,
      "outputs": [
        {
          "name": "stdout",
          "output_type": "stream",
          "text": [
            "Ingrese la cantidad a invertir: 100\n",
            "Ingrese la tasa de interés efectivo anual en porcentaje: 10\n",
            "Ingrese el número de años que va a dejar el dinero: 2\n",
            "Su retorno es 121.00.\n"
          ]
        }
      ]
    },
    {
      "cell_type": "markdown",
      "metadata": {
        "id": "94f5a0d2"
      },
      "source": [
        "### Ejercicio 10\n",
        "Una juguetería tiene mucho éxito en dos de sus productos: payasos y muñecas. Suele hacer venta por correo y la empresa de logística les cobra por peso de cada paquete así que deben calcular el peso de los payasos y muñecas que saldrán en cada paquete a demanda. Cada payaso pesa 112 g y cada muñeca 75 g. Escribir un programa que lea el número de payasos y muñecas vendidos en el último pedido y calcule el peso total del paquete que será enviado."
      ],
      "id": "94f5a0d2"
    },
    {
      "cell_type": "code",
      "metadata": {
        "id": "dff3c46b",
        "outputId": "b6639956-3653-4cfc-f71c-cc56dc0c41c1"
      },
      "source": [
        "payaso = int(input(\"Ingrese la cantidad de payasos vendidos: \"))\n",
        "doll = int(input(\"Ingrese la cantidad de muñecas vendidas: \"))\n",
        "peso = payaso * 112 + doll * 75\n",
        "print (f\"El peso del paquete a enviar es {peso} gramos.\")"
      ],
      "id": "dff3c46b",
      "execution_count": null,
      "outputs": [
        {
          "name": "stdout",
          "output_type": "stream",
          "text": [
            "Ingrese la cantidad de payasos vendidos: 10\n",
            "Ingrese la cantidad de muñecas vendidas: 10\n",
            "El peso del paquete a enviar es 1870 gramos.\n"
          ]
        }
      ]
    },
    {
      "cell_type": "markdown",
      "metadata": {
        "id": "cd858d24"
      },
      "source": [
        "### Ejercicio 11\n",
        "Imagina que acabas de abrir una nueva cuenta de ahorros que te ofrece el 4% de interés al año. Estos ahorros debido a intereses, que no se cobran hasta finales de año, se te añaden al balance final de tu cuenta de ahorros. Escribir un programa que comience leyendo la cantidad de dinero depositada en la cuenta de ahorros, introducida por el usuario. Después el programa debe calcular y mostrar por pantalla la cantidad de ahorros tras el primer, segundo y tercer años. Redondear cada cantidad a dos decimales."
      ],
      "id": "cd858d24"
    },
    {
      "cell_type": "code",
      "metadata": {
        "id": "df39c0f1",
        "outputId": "28fb7469-dd5b-415a-e946-db68c4c137f7"
      },
      "source": [
        "ahorro = float(input(\"Ingrese los ahorros que tiene en su cuenta: \"))\n",
        "print(f\"\"\"Sus ahorros al año son {(ahorro * 1.04):.2f},\n",
        "a los dos años es {(ahorro * 1.04**2):.2f}\n",
        "y a los tres años es {(ahorro * 1.04**3):.2f}\n",
        "\"\"\")"
      ],
      "id": "df39c0f1",
      "execution_count": null,
      "outputs": [
        {
          "name": "stdout",
          "output_type": "stream",
          "text": [
            "Ingrese los ahorros que tiene en su cuenta: 1000\n",
            "Sus ahorros al año son 1040.00,\n",
            "a los dos años es 1081.60\n",
            "y a los tres años es 1124.86\n",
            "\n"
          ]
        }
      ]
    },
    {
      "cell_type": "markdown",
      "metadata": {
        "id": "2f147992"
      },
      "source": [
        "### Ejercicio 12\n",
        "Una panadería vende barras de pan a 3.49€ cada una. El pan que no es el día tiene un descuento del 60%. Escribir un programa que comience leyendo el número de barras vendidas que no son del día. Después el programa debe mostrar el precio habitual de una barra de pan, el descuento que se le hace por no ser fresca y el coste final total."
      ],
      "id": "2f147992"
    },
    {
      "cell_type": "code",
      "metadata": {
        "id": "5a788e59",
        "outputId": "d533cd21-9083-407a-c23b-e16e8dc45561"
      },
      "source": [
        "pan = int(input(\"Digite las barras vendidas que no son del dia: \"))\n",
        "print(f\"\"\"El costo de una barra de pan es 3.49€.\n",
        "El descuento por no ser fresco es del 60%.\n",
        "Y el costo total es: {pan * 3.49 * .4}.\"\"\")"
      ],
      "id": "5a788e59",
      "execution_count": null,
      "outputs": [
        {
          "name": "stdout",
          "output_type": "stream",
          "text": [
            "Digite las barras vendidas que no son del dia: 100\n",
            "El costo de una barra de pan es 3.49€.\n",
            "El descuento por no ser fresco es del 60%.\n",
            "Y el costo total es: 139.6\n"
          ]
        }
      ]
    }
  ]
}